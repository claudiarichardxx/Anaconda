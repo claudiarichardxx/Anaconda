{
  "nbformat": 4,
  "nbformat_minor": 0,
  "metadata": {
    "colab": {
      "name": "Books_Regression.ipynb",
      "provenance": [],
      "include_colab_link": true
    },
    "kernelspec": {
      "name": "python3",
      "display_name": "Python 3"
    }
  },
  "cells": [
    {
      "cell_type": "markdown",
      "metadata": {
        "id": "view-in-github",
        "colab_type": "text"
      },
      "source": [
        "<a href=\"https://colab.research.google.com/github/claudiarichardxx/Anaconda/blob/master/Books_Regression.ipynb\" target=\"_parent\"><img src=\"https://colab.research.google.com/assets/colab-badge.svg\" alt=\"Open In Colab\"/></a>"
      ]
    },
    {
      "cell_type": "markdown",
      "metadata": {
        "id": "GsA--5N28Pfu"
      },
      "source": [
        "# Books Regresision\n",
        "## http://bit.ly/pymlsession1"
      ]
    },
    {
      "cell_type": "markdown",
      "metadata": {
        "id": "Nxq4bHqN08MV"
      },
      "source": [
        "### Connecting to Drive\n",
        "Download the dataset [here](https://drive.google.com/file/d/10oV6ntGxGNAe4unmZqn-qRBDd9-_OCdK/view?usp=sharing)"
      ]
    },
    {
      "cell_type": "code",
      "metadata": {
        "id": "PuZn2Rqn8Mcd",
        "colab": {
          "base_uri": "https://localhost:8080/",
          "height": 52
        },
        "outputId": "3d060246-9f51-4510-e752-bb1b067b3dc3"
      },
      "source": [
        "from google.colab import drive\n",
        "drive.mount('/gdrive')\n",
        "%cd /gdrive/My Drive/data\n"
      ],
      "execution_count": null,
      "outputs": [
        {
          "output_type": "stream",
          "text": [
            "Drive already mounted at /gdrive; to attempt to forcibly remount, call drive.mount(\"/gdrive\", force_remount=True).\n",
            "/gdrive/My Drive/data\n"
          ],
          "name": "stdout"
        }
      ]
    },
    {
      "cell_type": "markdown",
      "metadata": {
        "id": "fiRNOfrb1JpZ"
      },
      "source": [
        "### Performing imports"
      ]
    },
    {
      "cell_type": "code",
      "metadata": {
        "id": "oK3tf4rI8dxT"
      },
      "source": [
        "import pandas as pd\n",
        "from sklearn.linear_model import LinearRegression\n",
        "from sklearn.model_selection import train_test_split\n",
        "from sklearn import metrics\n",
        "import numpy as np"
      ],
      "execution_count": null,
      "outputs": []
    },
    {
      "cell_type": "markdown",
      "metadata": {
        "id": "lhp1rFJw1MbQ"
      },
      "source": [
        "### Getting Data"
      ]
    },
    {
      "cell_type": "code",
      "metadata": {
        "id": "cooLfA0I8qCv"
      },
      "source": [
        "data = pd.read_csv(\"amazon_books.csv\")"
      ],
      "execution_count": null,
      "outputs": []
    },
    {
      "cell_type": "code",
      "metadata": {
        "id": "FkPydCH49MSw",
        "colab": {
          "base_uri": "https://localhost:8080/",
          "height": 464
        },
        "outputId": "e0dac679-f491-4ff0-cb1a-8fdd3101dfec"
      },
      "source": [
        "data.head()"
      ],
      "execution_count": null,
      "outputs": [
        {
          "output_type": "execute_result",
          "data": {
            "text/html": [
              "<div>\n",
              "<style scoped>\n",
              "    .dataframe tbody tr th:only-of-type {\n",
              "        vertical-align: middle;\n",
              "    }\n",
              "\n",
              "    .dataframe tbody tr th {\n",
              "        vertical-align: top;\n",
              "    }\n",
              "\n",
              "    .dataframe thead th {\n",
              "        text-align: right;\n",
              "    }\n",
              "</style>\n",
              "<table border=\"1\" class=\"dataframe\">\n",
              "  <thead>\n",
              "    <tr style=\"text-align: right;\">\n",
              "      <th></th>\n",
              "      <th>url</th>\n",
              "      <th>title</th>\n",
              "      <th>author</th>\n",
              "      <th>price</th>\n",
              "      <th>save</th>\n",
              "      <th>pages</th>\n",
              "      <th>description</th>\n",
              "      <th>size</th>\n",
              "      <th>publisher</th>\n",
              "      <th>language</th>\n",
              "      <th>text_to_speech</th>\n",
              "      <th>x_ray</th>\n",
              "      <th>lending</th>\n",
              "      <th>customer_reviews</th>\n",
              "      <th>stars</th>\n",
              "    </tr>\n",
              "  </thead>\n",
              "  <tbody>\n",
              "    <tr>\n",
              "      <th>0</th>\n",
              "      <td>http://www.amazon.com/How-Bartender-Bartending...</td>\n",
              "      <td>How to be a Bartender: Get a Bartending Job Wi...</td>\n",
              "      <td>Dave Allred</td>\n",
              "      <td>9.99</td>\n",
              "      <td>NaN</td>\n",
              "      <td>171.0</td>\n",
              "      <td>In his revolutionary new book, Dave Allred (Th...</td>\n",
              "      <td>249.0</td>\n",
              "      <td>NaN</td>\n",
              "      <td>English</td>\n",
              "      <td>Enabled</td>\n",
              "      <td>Not Enabled</td>\n",
              "      <td>Enabled</td>\n",
              "      <td>23.0</td>\n",
              "      <td>4.9</td>\n",
              "    </tr>\n",
              "    <tr>\n",
              "      <th>1</th>\n",
              "      <td>http://www.amazon.com/Raise-Bar-Action-Based-C...</td>\n",
              "      <td>Raise the Bar: An Action-Based Method for Maxi...</td>\n",
              "      <td>Jon Taffer</td>\n",
              "      <td>2.00</td>\n",
              "      <td>24.00</td>\n",
              "      <td>258.0</td>\n",
              "      <td>If there’s anyone who can prevent a bar or res...</td>\n",
              "      <td>1427.0</td>\n",
              "      <td>Amazon Publishing</td>\n",
              "      <td>English</td>\n",
              "      <td>Enabled</td>\n",
              "      <td>Enabled</td>\n",
              "      <td>Enabled</td>\n",
              "      <td>80.0</td>\n",
              "      <td>4.7</td>\n",
              "    </tr>\n",
              "    <tr>\n",
              "      <th>2</th>\n",
              "      <td>http://www.amazon.com/The-Professional-Bartend...</td>\n",
              "      <td>The Professional Bartender's Handbook: A Recip...</td>\n",
              "      <td>Valerie Mellema</td>\n",
              "      <td>9.87</td>\n",
              "      <td>12.08</td>\n",
              "      <td>288.0</td>\n",
              "      <td>The Professional Bartenders Handbook is writte...</td>\n",
              "      <td>5643.0</td>\n",
              "      <td>Atlantic Publishing Group Inc.; illustrated ed...</td>\n",
              "      <td>English</td>\n",
              "      <td>Enabled</td>\n",
              "      <td>Not Enabled</td>\n",
              "      <td>Not Enabled</td>\n",
              "      <td>32.0</td>\n",
              "      <td>4.2</td>\n",
              "    </tr>\n",
              "    <tr>\n",
              "      <th>3</th>\n",
              "      <td>http://www.amazon.com/Double-Your-Tips-Jerry-M...</td>\n",
              "      <td>How to Double Your Tips [Kindle Edition]</td>\n",
              "      <td>Jerry Minchey</td>\n",
              "      <td>2.99</td>\n",
              "      <td>NaN</td>\n",
              "      <td>36.0</td>\n",
              "      <td>How to Double Your Tips (For every waitress, w...</td>\n",
              "      <td>98.0</td>\n",
              "      <td>Stony River Media</td>\n",
              "      <td>English</td>\n",
              "      <td>Enabled</td>\n",
              "      <td>Not Enabled</td>\n",
              "      <td>Enabled</td>\n",
              "      <td>6.0</td>\n",
              "      <td>4.5</td>\n",
              "    </tr>\n",
              "    <tr>\n",
              "      <th>4</th>\n",
              "      <td>http://www.amazon.com/The-Bartenders-Bible-Mix...</td>\n",
              "      <td>The Bartender's Bible: 1001 Mixed Drinks [Kind...</td>\n",
              "      <td>Gary Regan</td>\n",
              "      <td>5.99</td>\n",
              "      <td>2.00</td>\n",
              "      <td>400.0</td>\n",
              "      <td>Mix Drinks Like A Pro Now you can with this in...</td>\n",
              "      <td>647.0</td>\n",
              "      <td>HarperCollins e-books</td>\n",
              "      <td>English</td>\n",
              "      <td>Enabled</td>\n",
              "      <td>Not Enabled</td>\n",
              "      <td>Not Enabled</td>\n",
              "      <td>59.0</td>\n",
              "      <td>3.6</td>\n",
              "    </tr>\n",
              "  </tbody>\n",
              "</table>\n",
              "</div>"
            ],
            "text/plain": [
              "                                                 url  ... stars\n",
              "0  http://www.amazon.com/How-Bartender-Bartending...  ...   4.9\n",
              "1  http://www.amazon.com/Raise-Bar-Action-Based-C...  ...   4.7\n",
              "2  http://www.amazon.com/The-Professional-Bartend...  ...   4.2\n",
              "3  http://www.amazon.com/Double-Your-Tips-Jerry-M...  ...   4.5\n",
              "4  http://www.amazon.com/The-Bartenders-Bible-Mix...  ...   3.6\n",
              "\n",
              "[5 rows x 15 columns]"
            ]
          },
          "metadata": {
            "tags": []
          },
          "execution_count": 29
        }
      ]
    },
    {
      "cell_type": "markdown",
      "metadata": {
        "id": "5yd5okid1V5i"
      },
      "source": [
        "## Preprocessing"
      ]
    },
    {
      "cell_type": "markdown",
      "metadata": {
        "id": "3lx_DBzm1Y_S"
      },
      "source": [
        "### Removing NaN rows"
      ]
    },
    {
      "cell_type": "code",
      "metadata": {
        "id": "QZ3y8idQ1drO"
      },
      "source": [
        "data = data.dropna()"
      ],
      "execution_count": null,
      "outputs": []
    },
    {
      "cell_type": "markdown",
      "metadata": {
        "id": "OyKDU14v1QnH"
      },
      "source": [
        "### Converting USD to INR"
      ]
    },
    {
      "cell_type": "code",
      "metadata": {
        "id": "RYrcX_zk8-Vn"
      },
      "source": [
        "# Converting price from USD to INR\n",
        "inr = 70.72\n",
        "def usd_to_inr(usd):\n",
        "  return usd * inr\n",
        "data[\"price\"] = data[\"price\"].apply(usd_to_inr)"
      ],
      "execution_count": null,
      "outputs": []
    },
    {
      "cell_type": "code",
      "metadata": {
        "id": "dH5W-s1W8_6p",
        "colab": {
          "base_uri": "https://localhost:8080/",
          "height": 369
        },
        "outputId": "a28a04d4-38b5-4204-d135-aef3b4453a0b"
      },
      "source": [
        "data.info()"
      ],
      "execution_count": null,
      "outputs": [
        {
          "output_type": "stream",
          "text": [
            "<class 'pandas.core.frame.DataFrame'>\n",
            "Int64Index: 32571 entries, 1 to 49193\n",
            "Data columns (total 15 columns):\n",
            "url                 32571 non-null object\n",
            "title               32571 non-null object\n",
            "author              32571 non-null object\n",
            "price               32571 non-null float64\n",
            "save                32571 non-null float64\n",
            "pages               32571 non-null float64\n",
            "description         32571 non-null object\n",
            "size                32571 non-null float64\n",
            "publisher           32571 non-null object\n",
            "language            32571 non-null object\n",
            "text_to_speech      32571 non-null object\n",
            "x_ray               32571 non-null object\n",
            "lending             32571 non-null object\n",
            "customer_reviews    32571 non-null float64\n",
            "stars               32571 non-null float64\n",
            "dtypes: float64(6), object(9)\n",
            "memory usage: 4.0+ MB\n"
          ],
          "name": "stdout"
        }
      ]
    },
    {
      "cell_type": "markdown",
      "metadata": {
        "id": "kgFhBCV61ov5"
      },
      "source": [
        "## Correlation Between Columns"
      ]
    },
    {
      "cell_type": "code",
      "metadata": {
        "id": "tlk_Lj9t1tyh",
        "colab": {
          "base_uri": "https://localhost:8080/",
          "height": 225
        },
        "outputId": "0606cab8-6079-47b7-aeb4-a7dac6c269bd"
      },
      "source": [
        "data.corr()"
      ],
      "execution_count": null,
      "outputs": [
        {
          "output_type": "execute_result",
          "data": {
            "text/html": [
              "<div>\n",
              "<style scoped>\n",
              "    .dataframe tbody tr th:only-of-type {\n",
              "        vertical-align: middle;\n",
              "    }\n",
              "\n",
              "    .dataframe tbody tr th {\n",
              "        vertical-align: top;\n",
              "    }\n",
              "\n",
              "    .dataframe thead th {\n",
              "        text-align: right;\n",
              "    }\n",
              "</style>\n",
              "<table border=\"1\" class=\"dataframe\">\n",
              "  <thead>\n",
              "    <tr style=\"text-align: right;\">\n",
              "      <th></th>\n",
              "      <th>price</th>\n",
              "      <th>save</th>\n",
              "      <th>pages</th>\n",
              "      <th>size</th>\n",
              "      <th>customer_reviews</th>\n",
              "      <th>stars</th>\n",
              "    </tr>\n",
              "  </thead>\n",
              "  <tbody>\n",
              "    <tr>\n",
              "      <th>price</th>\n",
              "      <td>1.000000</td>\n",
              "      <td>0.489153</td>\n",
              "      <td>0.233525</td>\n",
              "      <td>0.162954</td>\n",
              "      <td>-0.056055</td>\n",
              "      <td>0.014894</td>\n",
              "    </tr>\n",
              "    <tr>\n",
              "      <th>save</th>\n",
              "      <td>0.489153</td>\n",
              "      <td>1.000000</td>\n",
              "      <td>0.184676</td>\n",
              "      <td>0.154055</td>\n",
              "      <td>-0.046905</td>\n",
              "      <td>0.023815</td>\n",
              "    </tr>\n",
              "    <tr>\n",
              "      <th>pages</th>\n",
              "      <td>0.233525</td>\n",
              "      <td>0.184676</td>\n",
              "      <td>1.000000</td>\n",
              "      <td>0.089886</td>\n",
              "      <td>0.096139</td>\n",
              "      <td>-0.038571</td>\n",
              "    </tr>\n",
              "    <tr>\n",
              "      <th>size</th>\n",
              "      <td>0.162954</td>\n",
              "      <td>0.154055</td>\n",
              "      <td>0.089886</td>\n",
              "      <td>1.000000</td>\n",
              "      <td>0.011519</td>\n",
              "      <td>0.013122</td>\n",
              "    </tr>\n",
              "    <tr>\n",
              "      <th>customer_reviews</th>\n",
              "      <td>-0.056055</td>\n",
              "      <td>-0.046905</td>\n",
              "      <td>0.096139</td>\n",
              "      <td>0.011519</td>\n",
              "      <td>1.000000</td>\n",
              "      <td>-0.019341</td>\n",
              "    </tr>\n",
              "    <tr>\n",
              "      <th>stars</th>\n",
              "      <td>0.014894</td>\n",
              "      <td>0.023815</td>\n",
              "      <td>-0.038571</td>\n",
              "      <td>0.013122</td>\n",
              "      <td>-0.019341</td>\n",
              "      <td>1.000000</td>\n",
              "    </tr>\n",
              "  </tbody>\n",
              "</table>\n",
              "</div>"
            ],
            "text/plain": [
              "                     price      save  ...  customer_reviews     stars\n",
              "price             1.000000  0.489153  ...         -0.056055  0.014894\n",
              "save              0.489153  1.000000  ...         -0.046905  0.023815\n",
              "pages             0.233525  0.184676  ...          0.096139 -0.038571\n",
              "size              0.162954  0.154055  ...          0.011519  0.013122\n",
              "customer_reviews -0.056055 -0.046905  ...          1.000000 -0.019341\n",
              "stars             0.014894  0.023815  ...         -0.019341  1.000000\n",
              "\n",
              "[6 rows x 6 columns]"
            ]
          },
          "metadata": {
            "tags": []
          },
          "execution_count": 33
        }
      ]
    },
    {
      "cell_type": "code",
      "metadata": {
        "id": "88WRW96V2AJE",
        "colab": {
          "base_uri": "https://localhost:8080/",
          "height": 297
        },
        "outputId": "f2c0f736-2955-485d-df1c-b30a402e4481"
      },
      "source": [
        "data.plot(y=\"price\",x=\"pages\",kind=\"scatter\")"
      ],
      "execution_count": null,
      "outputs": [
        {
          "output_type": "execute_result",
          "data": {
            "text/plain": [
              "<matplotlib.axes._subplots.AxesSubplot at 0x7f1795bb3860>"
            ]
          },
          "metadata": {
            "tags": []
          },
          "execution_count": 34
        },
        {
          "output_type": "display_data",
          "data": {
            "image/png": "[encoded data removed]",
            "text/plain": [
              "<Figure size 432x288 with 1 Axes>"
            ]
          },
          "metadata": {
            "tags": []
          }
        }
      ]
    },
    {
      "cell_type": "markdown",
      "metadata": {
        "id": "IpaF85R210Yn"
      },
      "source": [
        "+ve correlation between number of pages and the price.\n",
        "Let us build a simple linear regressor that takes in number of pages and outputs the price of the book."
      ]
    },
    {
      "cell_type": "markdown",
      "metadata": {
        "id": "59KJeqJi2DWD"
      },
      "source": [
        "## Regression\n",
        "### Finding the price using page numbers only"
      ]
    },
    {
      "cell_type": "code",
      "metadata": {
        "id": "hyT8pc4Q-2qr"
      },
      "source": [
        "def train(model,X,y):\n",
        "  return model.fit(X, y)\n",
        "  \n",
        "def predict(model,X):\n",
        "  X = [[X]]\n",
        "  return model.predict(X)[0][0]"
      ],
      "execution_count": null,
      "outputs": []
    },
    {
      "cell_type": "markdown",
      "metadata": {
        "id": "QD4Uz4t13C5i"
      },
      "source": [
        "### Training"
      ]
    },
    {
      "cell_type": "code",
      "metadata": {
        "id": "Ulas2XTA2pvq"
      },
      "source": [
        "y = data[[\"price\"]]\n",
        "X = data[[\"pages\"]]\n",
        "model = LinearRegression()\n",
        "reg = train(model,X,y)"
      ],
      "execution_count": null,
      "outputs": []
    },
    {
      "cell_type": "markdown",
      "metadata": {
        "id": "5kxVrFDn3rCr"
      },
      "source": [
        "### Predicting the cost of a book based on number of pages"
      ]
    },
    {
      "cell_type": "code",
      "metadata": {
        "id": "Srp30WQr3J2E",
        "colab": {
          "base_uri": "https://localhost:8080/",
          "height": 34
        },
        "outputId": "ec86a0e9-51a9-46b0-dfb8-189111c49189"
      },
      "source": [
        "predict(model,500)"
      ],
      "execution_count": null,
      "outputs": [
        {
          "output_type": "execute_result",
          "data": {
            "text/plain": [
              "761.5090237560057"
            ]
          },
          "metadata": {
            "tags": []
          },
          "execution_count": 37
        }
      ]
    },
    {
      "cell_type": "code",
      "metadata": {
        "id": "gG4Wk-Mr9hSq",
        "colab": {
          "base_uri": "https://localhost:8080/",
          "height": 34
        },
        "outputId": "ad23db7f-68fd-49d4-ca10-513e4c5bc63c"
      },
      "source": [
        "predict(model,220)"
      ],
      "execution_count": null,
      "outputs": [
        {
          "output_type": "execute_result",
          "data": {
            "text/plain": [
              "569.643109927136"
            ]
          },
          "metadata": {
            "tags": []
          },
          "execution_count": 50
        }
      ]
    },
    {
      "cell_type": "markdown",
      "metadata": {
        "id": "Ab17s96r32Lx"
      },
      "source": [
        "### Testing\n",
        "#### Dividing data into testing data and Training data"
      ]
    },
    {
      "cell_type": "code",
      "metadata": {
        "id": "J8wSFtsH37Gk"
      },
      "source": [
        "X_train, X_test, y_train, y_test = train_test_split(data[[\"pages\"]], data[[\"price\"]], test_size=0.2,random_state=42)\n",
        "model = LinearRegression()\n",
        "reg = train(model,X_train,y_train)\n",
        "predictions = reg.predict(X_test)\n",
        "predictions_t = reg.predict(X_train)"
      ],
      "execution_count": null,
      "outputs": []
    },
    {
      "cell_type": "markdown",
      "metadata": {
        "id": "wtqjB3qQ8zVo"
      },
      "source": [
        "### Why Root mean square ?\n",
        "The root-mean-square error (RMSE) is a frequently used measure of the differences between acutal values and predicted values.\n",
        "The RMSE for your training and your test sets should be very similar if you have built a good model.\n",
        "If the RMSE for the test set is much higher than that of the training set, it is likely that you've badly over fit the data."
      ]
    },
    {
      "cell_type": "code",
      "metadata": {
        "id": "4wFsP_JE4pFv",
        "colab": {
          "base_uri": "https://localhost:8080/",
          "height": 52
        },
        "outputId": "01c6f4ee-889b-4278-ade9-8cea67916b33"
      },
      "source": [
        "# print('Mean Absolute Error:', metrics.mean_absolute_error(y_test, predictions))  \n",
        "# print('Mean Squared Error:', metrics.mean_squared_error(y_test, predictions))  \n",
        "print('Root Mean Squared Error for train set:', np.sqrt(metrics.mean_squared_error(y_train, predictions_t)))\n",
        "print('Root Mean Squared Error for test set:', np.sqrt(metrics.mean_squared_error(y_test, predictions)))"
      ],
      "execution_count": null,
      "outputs": [
        {
          "output_type": "stream",
          "text": [
            "Root Mean Squared Error for train set: 583.0424607602409\n",
            "Root Mean Squared Error for test set: 499.5207092790631\n"
          ],
          "name": "stdout"
        }
      ]
    },
    {
      "cell_type": "markdown",
      "metadata": {
        "id": "a7ZeFS5U9DNZ"
      },
      "source": [
        "### Assignment\n",
        "* Display the book with the highest cost\n",
        "* Use other regressors like SVR and decision tree \n",
        "* Use more data points ( like rating ) to train your model"
      ]
    },
    {
      "cell_type": "code",
      "metadata": {
        "id": "9iaii0xgDYYf"
      },
      "source": [
        ""
      ],
      "execution_count": null,
      "outputs": []
    }
  ]
}